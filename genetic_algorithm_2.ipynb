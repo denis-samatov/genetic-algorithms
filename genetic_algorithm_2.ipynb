{
  "nbformat": 4,
  "nbformat_minor": 0,
  "metadata": {
    "colab": {
      "provenance": []
    },
    "kernelspec": {
      "name": "python3",
      "display_name": "Python 3"
    },
    "language_info": {
      "name": "python"
    }
  },
  "cells": [
    {
      "cell_type": "markdown",
      "source": [
        "# Оптимизация функции с использованием генетического алгоритма"
      ],
      "metadata": {
        "id": "vQqHR9GWBR0Y"
      }
    },
    {
      "cell_type": "markdown",
      "source": [
        "В этом Jupyter Notebook мы будем использовать библиотеку DEAP для оптимизации функции $$ y = x^2 + 4 $$"
      ],
      "metadata": {
        "id": "aW3rhXSrBTf-"
      }
    },
    {
      "cell_type": "markdown",
      "source": [
        "## Установка DEAP"
      ],
      "metadata": {
        "id": "nyUZzYYhBVGQ"
      }
    },
    {
      "cell_type": "markdown",
      "source": [
        "Для начала установим необходимую библиотеку DEAP, если она еще не установлена."
      ],
      "metadata": {
        "id": "QQDnniIfBXcV"
      }
    },
    {
      "cell_type": "code",
      "source": [
        "!pip install deap"
      ],
      "metadata": {
        "colab": {
          "base_uri": "https://localhost:8080/"
        },
        "id": "Fhj3BoqDBYjf",
        "outputId": "2a6e549f-06c8-4991-e1ae-29a22aa38236"
      },
      "execution_count": 2,
      "outputs": [
        {
          "output_type": "stream",
          "name": "stdout",
          "text": [
            "Collecting deap\n",
            "  Downloading deap-1.4.1-cp310-cp310-manylinux_2_5_x86_64.manylinux1_x86_64.manylinux_2_17_x86_64.manylinux2014_x86_64.whl (135 kB)\n",
            "\u001b[?25l     \u001b[90m━━━━━━━━━━━━━━━━━━━━━━━━━━━━━━━━━━━━━━━━\u001b[0m \u001b[32m0.0/135.4 kB\u001b[0m \u001b[31m?\u001b[0m eta \u001b[36m-:--:--\u001b[0m\r\u001b[2K     \u001b[90m━━━━━━━━━━━━━━━━━━━━━━━━━━━━━━━━━━━━━━━━\u001b[0m \u001b[32m135.4/135.4 kB\u001b[0m \u001b[31m3.9 MB/s\u001b[0m eta \u001b[36m0:00:00\u001b[0m\n",
            "\u001b[?25hRequirement already satisfied: numpy in /usr/local/lib/python3.10/dist-packages (from deap) (1.25.2)\n",
            "Installing collected packages: deap\n",
            "Successfully installed deap-1.4.1\n"
          ]
        }
      ]
    },
    {
      "cell_type": "markdown",
      "source": [
        "## Импорт необходимых библиотек\n"
      ],
      "metadata": {
        "id": "vuwny_7QBaTy"
      }
    },
    {
      "cell_type": "code",
      "source": [
        "from deap import base, algorithms\n",
        "from deap import creator\n",
        "from deap import tools\n",
        "import random\n",
        "import numpy as np"
      ],
      "metadata": {
        "id": "ECVYFDaxBc5i"
      },
      "execution_count": null,
      "outputs": []
    },
    {
      "cell_type": "markdown",
      "source": [
        "## Параметры генетического алгоритма"
      ],
      "metadata": {
        "id": "z6YtY_aQBd9I"
      }
    },
    {
      "cell_type": "markdown",
      "source": [
        "Зададим основные параметры нашего генетического алгоритма.\n"
      ],
      "metadata": {
        "id": "H2lqr3cgBe7I"
      }
    },
    {
      "cell_type": "code",
      "source": [
        "LOW, UP = -5, 5\n",
        "ETA = 20\n",
        "LENGTH_CHROM = 1 # длинна хромосомы (x)\n",
        "POPULATION_SIZE = 200     # количество индивидуумов в популяции\n",
        "P_CROSSOVER = 0.9         # вероятность скрещивания\n",
        "P_MUTATION = 0.2          # вероятность мутации индивидуума\n",
        "MAX_GENERATION = 50       # максимальное количество поколения\n",
        "HALL_OF_FAME_SIZE = 5"
      ],
      "metadata": {
        "id": "jCAKZemxBhYe"
      },
      "execution_count": null,
      "outputs": []
    },
    {
      "cell_type": "markdown",
      "source": [
        "## Создание классов и функций"
      ],
      "metadata": {
        "id": "NY6oVHP5Bidy"
      }
    },
    {
      "cell_type": "code",
      "source": [
        "hof = tools.HallOfFame(HALL_OF_FAME_SIZE)\n",
        "\n",
        "creator.create(\"FitnessMin\", base.Fitness, weights=(-1.0,))\n",
        "creator.create(\"Individual\", list, fitness=creator.FitnessMin)\n",
        "\n",
        "def randomPoint(a, b):\n",
        "    return [random.uniform(a, b)]\n",
        "\n",
        "toolbox = base.Toolbox()\n",
        "toolbox.register(\"randomPoint\", randomPoint, LOW, UP)\n",
        "toolbox.register(\"individualCreator\", tools.initIterate, creator.Individual, toolbox.randomPoint)\n",
        "toolbox.register(\"populationCreator\", tools.initRepeat, list, toolbox.individualCreator)\n",
        "\n",
        "population = toolbox.populationCreator(n=POPULATION_SIZE)"
      ],
      "metadata": {
        "id": "JM3TWcX0Bkod"
      },
      "execution_count": null,
      "outputs": []
    },
    {
      "cell_type": "markdown",
      "source": [
        "## Определение функции приспособленности"
      ],
      "metadata": {
        "id": "C7EB7rsHBmBR"
      }
    },
    {
      "cell_type": "code",
      "source": [
        "def minFunction(individual):\n",
        "    x = individual\n",
        "    f = np.power(x, 2) + 4\n",
        "    return f,\n",
        "\n",
        "toolbox.register(\"evaluate\", minFunction)"
      ],
      "metadata": {
        "id": "0cTAOTQeBnwP"
      },
      "execution_count": null,
      "outputs": []
    },
    {
      "cell_type": "markdown",
      "source": [
        "## Регистрация операторов генетического алгоритма"
      ],
      "metadata": {
        "id": "3B2AXFxsBpM6"
      }
    },
    {
      "cell_type": "code",
      "source": [
        "toolbox.register(\"select\", tools.selTournament, tournsize=3)\n",
        "toolbox.register(\"mate\", tools.cxSimulatedBinaryBounded, low=LOW, up=UP, eta=ETA)\n",
        "toolbox.register(\"mutate\", tools.mutPolynomialBounded, low=LOW, up=UP, eta=ETA, indpb=1.0/LENGTH_CHROM)"
      ],
      "metadata": {
        "id": "DNXH8hEUBrX1"
      },
      "execution_count": null,
      "outputs": []
    },
    {
      "cell_type": "markdown",
      "source": [
        "## Запуск генетического алгоритма"
      ],
      "metadata": {
        "id": "cXpFf8KwBsXk"
      }
    },
    {
      "cell_type": "code",
      "source": [
        "stats = tools.Statistics(lambda ind: ind.fitness.values)\n",
        "stats.register(\"min\", np.min)\n",
        "stats.register(\"avg\", np.mean)\n",
        "\n",
        "population, logbook = algorithms.eaSimple(population, toolbox,\n",
        "                                          cxpb=P_CROSSOVER,\n",
        "                                          mutpb=P_MUTATION,\n",
        "                                          ngen=MAX_GENERATION,\n",
        "                                          halloffame=hof,\n",
        "                                          stats=stats,\n",
        "                                          verbose=True)"
      ],
      "metadata": {
        "id": "JzMbEtXiBuFR"
      },
      "execution_count": null,
      "outputs": []
    },
    {
      "cell_type": "markdown",
      "source": [
        "## Вывод результатов"
      ],
      "metadata": {
        "id": "sR-5Hew3BxRn"
      }
    },
    {
      "cell_type": "code",
      "source": [
        "minFitnessValues, meanFitnessValues = logbook.select(\"min\", \"avg\")\n",
        "\n",
        "best = hof.items[0]\n",
        "print(\"Лучший индивидуум: \", best)\n",
        "print(\"Значение функции в лучшей точке: \", minFunction(best))"
      ],
      "metadata": {
        "id": "Viq-O_rmBwAp"
      },
      "execution_count": null,
      "outputs": []
    }
  ]
}