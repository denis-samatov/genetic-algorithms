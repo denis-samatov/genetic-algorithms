{
  "nbformat": 4,
  "nbformat_minor": 0,
  "metadata": {
    "colab": {
      "provenance": [],
      "collapsed_sections": [
        "hGAjRiyH_uW6",
        "hYGtTj9s_wFR",
        "Kurabq1U_y10",
        "SaQ691mc_3MI",
        "V9sKuqIx_6CF",
        "1ANovcOA_8Gn",
        "PJFSrwJS_-X0",
        "nkSz0bdcABkA",
        "uk8aClGQAEBu",
        "StLzfNaYAIY4",
        "dlN9voDzAKsc",
        "7kI_HnZ1AM9b",
        "sqSm6LFFAPlq",
        "hyIb4lkaASv9",
        "TjyJ-MT1AU-W"
      ]
    },
    "kernelspec": {
      "name": "python3",
      "display_name": "Python 3"
    },
    "language_info": {
      "name": "python"
    }
  },
  "cells": [
    {
      "cell_type": "markdown",
      "source": [
        "# Установка необходимых библиотек"
      ],
      "metadata": {
        "id": "hGAjRiyH_uW6"
      }
    },
    {
      "cell_type": "code",
      "source": [
        "!pip install deap\n",
        "!pip install matplotlib"
      ],
      "metadata": {
        "id": "Ven5Q0ec_tTH"
      },
      "execution_count": null,
      "outputs": []
    },
    {
      "cell_type": "markdown",
      "source": [
        "# Импорт необходимых библиотек"
      ],
      "metadata": {
        "id": "hYGtTj9s_wFR"
      }
    },
    {
      "cell_type": "code",
      "source": [
        "from deap import base, algorithms\n",
        "from deap import creator\n",
        "from deap import tools\n",
        "import random\n",
        "import matplotlib.pyplot as plt\n",
        "import numpy as np"
      ],
      "metadata": {
        "id": "zhBTiRmE_xyg"
      },
      "execution_count": null,
      "outputs": []
    },
    {
      "cell_type": "markdown",
      "source": [
        "# Определение глобальных параметров"
      ],
      "metadata": {
        "id": "Kurabq1U_y10"
      }
    },
    {
      "cell_type": "code",
      "source": [
        "LOW, UP = -5, 5\n",
        "ETA = 20\n",
        "LENGTH_CHROM = 2 # Длина хромосомы (x, y)\n",
        "\n",
        "# Константы генетического алгоритма\n",
        "POPULATION_SIZE = 200     # Количество индивидуумов в популяции\n",
        "P_CROSSOVER = 0.9         # Вероятность скрещивания\n",
        "P_MUTATION = 0.2          # Вероятность мутации индивидуума\n",
        "MAX_GENERATION = 50       # Максимальное количество поколений\n",
        "HALL_OF_FAME_SIZE = 5     # Размер Зала славы (лучших индивидуумов)"
      ],
      "metadata": {
        "id": "ZJTnvO_G_0sR"
      },
      "execution_count": null,
      "outputs": []
    },
    {
      "cell_type": "markdown",
      "source": [
        "# Создание Зала славы"
      ],
      "metadata": {
        "id": "SaQ691mc_3MI"
      }
    },
    {
      "cell_type": "code",
      "source": [
        "hof = tools.HallOfFame(HALL_OF_FAME_SIZE)"
      ],
      "metadata": {
        "id": "ISxj9qnZ_4Wa"
      },
      "execution_count": null,
      "outputs": []
    },
    {
      "cell_type": "markdown",
      "source": [
        "# Создание классов для особей и функции приспособленности"
      ],
      "metadata": {
        "id": "V9sKuqIx_6CF"
      }
    },
    {
      "cell_type": "code",
      "source": [
        "creator.create(\"FitnessMin\", base.Fitness, weights=(-1.0,))\n",
        "creator.create(\"Individual\", list, fitness=creator.FitnessMin)"
      ],
      "metadata": {
        "id": "JzvVIOL3_7J5"
      },
      "execution_count": null,
      "outputs": []
    },
    {
      "cell_type": "markdown",
      "source": [
        "# Функция для генерации случайной точки в заданных пределах"
      ],
      "metadata": {
        "id": "1ANovcOA_8Gn"
      }
    },
    {
      "cell_type": "code",
      "source": [
        "def randomPoint(a, b):\n",
        "    return [random.uniform(a, b), random.uniform(a, b)]"
      ],
      "metadata": {
        "id": "w2VOMj2A_9K8"
      },
      "execution_count": null,
      "outputs": []
    },
    {
      "cell_type": "markdown",
      "source": [
        "# Регистрация функций для создания индивидуумов и популяции"
      ],
      "metadata": {
        "id": "PJFSrwJS_-X0"
      }
    },
    {
      "cell_type": "code",
      "source": [
        "toolbox = base.Toolbox()\n",
        "toolbox.register(\"randomPoint\", randomPoint, LOW, UP)\n",
        "toolbox.register(\"individualCreator\", tools.initIterate, creator.Individual, toolbox.randomPoint)\n",
        "toolbox.register(\"populationCreator\", tools.initRepeat, list, toolbox.individualCreator)"
      ],
      "metadata": {
        "id": "avWH7ug2AAEA"
      },
      "execution_count": null,
      "outputs": []
    },
    {
      "cell_type": "markdown",
      "source": [
        "# Создание начальной популяции\n"
      ],
      "metadata": {
        "id": "nkSz0bdcABkA"
      }
    },
    {
      "cell_type": "code",
      "source": [
        "population = toolbox.populationCreator(n=POPULATION_SIZE)"
      ],
      "metadata": {
        "colab": {
          "base_uri": "https://localhost:8080/",
          "height": 141
        },
        "id": "ZHlcMew9ACaE",
        "outputId": "21442fbf-45b3-4f1d-eebc-59cfb1f697e6"
      },
      "execution_count": 1,
      "outputs": [
        {
          "output_type": "error",
          "ename": "NameError",
          "evalue": "name 'toolbox' is not defined",
          "traceback": [
            "\u001b[0;31m---------------------------------------------------------------------------\u001b[0m",
            "\u001b[0;31mNameError\u001b[0m                                 Traceback (most recent call last)",
            "\u001b[0;32m<ipython-input-1-2c28940395b5>\u001b[0m in \u001b[0;36m<cell line: 1>\u001b[0;34m()\u001b[0m\n\u001b[0;32m----> 1\u001b[0;31m \u001b[0mpopulation\u001b[0m \u001b[0;34m=\u001b[0m \u001b[0mtoolbox\u001b[0m\u001b[0;34m.\u001b[0m\u001b[0mpopulationCreator\u001b[0m\u001b[0;34m(\u001b[0m\u001b[0mn\u001b[0m\u001b[0;34m=\u001b[0m\u001b[0mPOPULATION_SIZE\u001b[0m\u001b[0;34m)\u001b[0m\u001b[0;34m\u001b[0m\u001b[0;34m\u001b[0m\u001b[0m\n\u001b[0m",
            "\u001b[0;31mNameError\u001b[0m: name 'toolbox' is not defined"
          ]
        }
      ]
    },
    {
      "cell_type": "markdown",
      "source": [
        "# Определение функции минимизации"
      ],
      "metadata": {
        "id": "uk8aClGQAEBu"
      }
    },
    {
      "cell_type": "code",
      "source": [
        "def minFunction(individual):\n",
        "    x, y = individual\n",
        "    f = (x ** 2 + y - 11) ** 2 + (x + y ** 2 - 7) ** 2\n",
        "    return f,"
      ],
      "metadata": {
        "id": "6vbyx1YYAFTB"
      },
      "execution_count": null,
      "outputs": []
    },
    {
      "cell_type": "markdown",
      "source": [
        "# Регистрация функций для работы с библиотекой DEAP"
      ],
      "metadata": {
        "id": "StLzfNaYAIY4"
      }
    },
    {
      "cell_type": "code",
      "source": [
        "toolbox.register(\"evaluate\", minFunction)  # Вычисление приспособленности особи\n",
        "toolbox.register(\"select\", tools.selTournament, tournsize=3)  # Турнирный отбор\n",
        "toolbox.register(\"mate\", tools.cxSimulatedBinaryBounded, low=LOW, up=UP, eta=ETA)  # Скрещивание\n",
        "toolbox.register(\"mutate\", tools.mutPolynomialBounded, low=LOW, up=UP, eta=ETA, indpb=1.0/LENGTH_CHROM)  # Мутация"
      ],
      "metadata": {
        "id": "ySiSi7NiAJtM"
      },
      "execution_count": null,
      "outputs": []
    },
    {
      "cell_type": "markdown",
      "source": [
        "# Статистики"
      ],
      "metadata": {
        "id": "dlN9voDzAKsc"
      }
    },
    {
      "cell_type": "code",
      "source": [
        "stats = tools.Statistics(lambda ind: ind.fitness.values)\n",
        "stats.register(\"min\", np.min)\n",
        "stats.register(\"avg\", np.mean)"
      ],
      "metadata": {
        "colab": {
          "base_uri": "https://localhost:8080/",
          "height": 176
        },
        "id": "6L4F4fiaALpJ",
        "outputId": "2a4b739a-79ef-4ffe-cc43-b2ac262d554c"
      },
      "execution_count": 2,
      "outputs": [
        {
          "output_type": "error",
          "ename": "NameError",
          "evalue": "name 'tools' is not defined",
          "traceback": [
            "\u001b[0;31m---------------------------------------------------------------------------\u001b[0m",
            "\u001b[0;31mNameError\u001b[0m                                 Traceback (most recent call last)",
            "\u001b[0;32m<ipython-input-2-0b42cd0d795e>\u001b[0m in \u001b[0;36m<cell line: 1>\u001b[0;34m()\u001b[0m\n\u001b[0;32m----> 1\u001b[0;31m \u001b[0mstats\u001b[0m \u001b[0;34m=\u001b[0m \u001b[0mtools\u001b[0m\u001b[0;34m.\u001b[0m\u001b[0mStatistics\u001b[0m\u001b[0;34m(\u001b[0m\u001b[0;32mlambda\u001b[0m \u001b[0mind\u001b[0m\u001b[0;34m:\u001b[0m \u001b[0mind\u001b[0m\u001b[0;34m.\u001b[0m\u001b[0mfitness\u001b[0m\u001b[0;34m.\u001b[0m\u001b[0mvalues\u001b[0m\u001b[0;34m)\u001b[0m\u001b[0;34m\u001b[0m\u001b[0;34m\u001b[0m\u001b[0m\n\u001b[0m\u001b[1;32m      2\u001b[0m \u001b[0mstats\u001b[0m\u001b[0;34m.\u001b[0m\u001b[0mregister\u001b[0m\u001b[0;34m(\u001b[0m\u001b[0;34m\"min\"\u001b[0m\u001b[0;34m,\u001b[0m \u001b[0mnp\u001b[0m\u001b[0;34m.\u001b[0m\u001b[0mmin\u001b[0m\u001b[0;34m)\u001b[0m\u001b[0;34m\u001b[0m\u001b[0;34m\u001b[0m\u001b[0m\n\u001b[1;32m      3\u001b[0m \u001b[0mstats\u001b[0m\u001b[0;34m.\u001b[0m\u001b[0mregister\u001b[0m\u001b[0;34m(\u001b[0m\u001b[0;34m\"avg\"\u001b[0m\u001b[0;34m,\u001b[0m \u001b[0mnp\u001b[0m\u001b[0;34m.\u001b[0m\u001b[0mmean\u001b[0m\u001b[0;34m)\u001b[0m\u001b[0;34m\u001b[0m\u001b[0;34m\u001b[0m\u001b[0m\n",
            "\u001b[0;31mNameError\u001b[0m: name 'tools' is not defined"
          ]
        }
      ]
    },
    {
      "cell_type": "markdown",
      "source": [
        "# Применение генетического алгоритма"
      ],
      "metadata": {
        "id": "7kI_HnZ1AM9b"
      }
    },
    {
      "cell_type": "code",
      "source": [
        "population, logbook = algorithms.eaSimple(population, toolbox,\n",
        "                                          cxpb=P_CROSSOVER,\n",
        "                                          mutpb=P_MUTATION,\n",
        "                                          ngen=MAX_GENERATION,\n",
        "                                          halloffame=hof,\n",
        "                                          stats=stats,\n",
        "                                          verbose=True)"
      ],
      "metadata": {
        "id": "kC2h0J87AOSP"
      },
      "execution_count": null,
      "outputs": []
    },
    {
      "cell_type": "markdown",
      "source": [
        "# Извлечение статистик из журнала"
      ],
      "metadata": {
        "id": "sqSm6LFFAPlq"
      }
    },
    {
      "cell_type": "code",
      "source": [
        "minFitnessValues, meanFitnessValues = logbook.select(\"min\", \"avg\")"
      ],
      "metadata": {
        "id": "pT3nAERLAReI"
      },
      "execution_count": null,
      "outputs": []
    },
    {
      "cell_type": "markdown",
      "source": [
        "# Извлечение лучшей особи"
      ],
      "metadata": {
        "id": "hyIb4lkaASv9"
      }
    },
    {
      "cell_type": "code",
      "source": [
        "best = hof.items[0]\n",
        "print(\"Best individual:\", best)"
      ],
      "metadata": {
        "id": "InBmGeClAShT"
      },
      "execution_count": null,
      "outputs": []
    },
    {
      "cell_type": "markdown",
      "source": [
        "# Визуализация результатов"
      ],
      "metadata": {
        "id": "TjyJ-MT1AU-W"
      }
    },
    {
      "cell_type": "code",
      "source": [
        "plt.figure()\n",
        "plt.plot(minFitnessValues, color='red', label='Minimum Fitness')\n",
        "plt.plot(meanFitnessValues, color='green', label='Mean Fitness')\n",
        "plt.xlabel('Generation')\n",
        "plt.ylabel('Fitness')\n",
        "plt.title('Min and Mean Fitness over Generations')\n",
        "plt.legend()\n",
        "plt.show()"
      ],
      "metadata": {
        "id": "tzNR6iFE_rjF"
      },
      "execution_count": null,
      "outputs": []
    }
  ]
}